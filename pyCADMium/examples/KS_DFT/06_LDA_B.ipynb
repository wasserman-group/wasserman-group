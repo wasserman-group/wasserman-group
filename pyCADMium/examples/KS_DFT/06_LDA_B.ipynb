{
 "cells": [
  {
   "cell_type": "markdown",
   "metadata": {},
   "source": [
    "### Boron LDA"
   ]
  },
  {
   "cell_type": "code",
   "execution_count": 1,
   "metadata": {},
   "outputs": [
    {
     "name": "stdout",
     "output_type": "stream",
     "text": [
      " iter    Total Energy     HOMO Eigenvalue         Res       \n",
      "\n",
      "----------------------------------------------------------- \n",
      "\n",
      "    1      -30.01688      +3.67720e-02       +1.00000e+00\n",
      "    2      -25.84524      -1.83671e-01       +1.61409e-01\n",
      "    3      -24.83620      -1.78665e-01       +4.06276e-02\n",
      "    4      -24.51224      -1.59976e-01       +1.32163e-02\n",
      "    5      -24.39998      -1.47880e-01       +4.60086e-03\n",
      "    6      -24.37244      -1.41464e-01       +1.41259e-03\n",
      "    7      -24.34642      -1.38286e-01       +1.06873e-03\n",
      "    8      -24.34254      -1.36685e-01       +4.58122e-04\n",
      "    9      -24.34145      -1.35920e-01       +2.48393e-04\n",
      "   10      -24.34128      -1.35548e-01       +1.32124e-04\n",
      "   11      -24.34137      -1.35367e-01       +6.92865e-05\n",
      "   12      -24.34148      -1.35277e-01       +3.59079e-05\n",
      "   13      -24.34156      -1.35233e-01       +1.84181e-05\n",
      "   14      -24.34162      -1.35211e-01       +9.36798e-06\n",
      " Total Energy: -24.341617173303305\n"
     ]
    }
   ],
   "source": [
    "import numpy as np\n",
    "from CADMium import Psgrid\n",
    "from CADMium import Kohnsham\n",
    "\n",
    "#Distance of the nucley from grid center\n",
    "a =  1.0\n",
    "\n",
    "#Nuclear charges on centers AB\n",
    "Za  = 5\n",
    "Zb = 0\n",
    "\n",
    "#Set polaization. 1 Unpolarized, 2 Polarized\n",
    "pol = 1\n",
    "\n",
    "Nmo = [[4], [1]]\n",
    "N   = [[4], [1]]\n",
    "\n",
    "optKS = {\n",
    "        \"interaction_type\" : \"dft\",\n",
    "        \"SYM\" : False,\n",
    "        \"FRACTIONAL\" : True # Notice that Fractional is turned on. \n",
    "        }\n",
    "\n",
    "#Grid Options\n",
    "NP = 4 #Number of points per block\n",
    "NM =  [10,10] #Number of blocks [angular, radial]\n",
    "L = np.arccosh(15./a) #Maximum radial coordinate value\n",
    "loc = np.array(range(-4,5)) #Non inclusive on upper bound\n",
    "\n",
    "#Create and initialize grid object\n",
    "grid = Psgrid(NP, NM, a, L, loc)\n",
    "grid.initialize()\n",
    "\n",
    "#Kohn Sham object\n",
    "KS = Kohnsham(grid, Za, Zb, pol, Nmo, N, optKS)\n",
    "KS.scf()\n",
    "\n",
    "print(f\" Total Energy: {KS.E.E}\")\n",
    "\n"
   ]
  }
 ],
 "metadata": {
  "kernelspec": {
   "display_name": "Python 3 (ipykernel)",
   "language": "python",
   "name": "python3"
  },
  "language_info": {
   "codemirror_mode": {
    "name": "ipython",
    "version": 3
   },
   "file_extension": ".py",
   "mimetype": "text/x-python",
   "name": "python",
   "nbconvert_exporter": "python",
   "pygments_lexer": "ipython3",
   "version": "3.8.5"
  }
 },
 "nbformat": 4,
 "nbformat_minor": 4
}
