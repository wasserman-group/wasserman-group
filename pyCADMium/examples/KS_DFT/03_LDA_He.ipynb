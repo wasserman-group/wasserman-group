{
 "cells": [
  {
   "cell_type": "markdown",
   "metadata": {},
   "source": [
    "### Helium LDA"
   ]
  },
  {
   "cell_type": "code",
   "execution_count": 1,
   "metadata": {},
   "outputs": [
    {
     "name": "stdout",
     "output_type": "stream",
     "text": [
      " iter    Total Energy     HOMO Eigenvalue         Res       \n",
      "\n",
      "----------------------------------------------------------- \n",
      "\n",
      "    1       -3.62587      -3.79963e-01       +1.00000e+00\n",
      "    2       -3.05643      -5.22432e-01       +1.86311e-01\n",
      "    3       -2.89905      -5.58398e-01       +5.42842e-02\n",
      "    4       -2.85419      -5.67581e-01       +1.57196e-02\n",
      "    5       -2.84080      -5.69832e-01       +4.71360e-03\n",
      "    6       -2.83662      -5.70305e-01       +1.47100e-03\n",
      "    7       -2.83525      -5.70355e-01       +4.83381e-04\n",
      "    8       -2.83477      -5.70328e-01       +1.75088e-04\n",
      "    9       -2.83459      -5.70298e-01       +8.00280e-05\n",
      "   10       -2.83452      -5.70279e-01       +3.77715e-05\n",
      "   11       -2.83448      -5.70268e-01       +1.81939e-05\n",
      "   12       -2.83447      -5.70262e-01       +8.87283e-06\n",
      " Total Energy: -2.834468599168821\n"
     ]
    }
   ],
   "source": [
    "import numpy as np\n",
    "from CADMium import Psgrid\n",
    "from CADMium import Kohnsham\n",
    "\n",
    "#Distance of the nucley from grid center\n",
    "a =  1.0\n",
    "\n",
    "#Nuclear charges on centers AB\n",
    "Za  = 2\n",
    "Zb = 0\n",
    "\n",
    "#Set polaization. 1 Unpolarized, 2 Polarized\n",
    "pol = 1\n",
    "\n",
    "Nmo = [[1]]\n",
    "N   = [[2]]\n",
    "\n",
    "optKS = {\n",
    "        \"interaction_type\" : \"dft\",\n",
    "        \"SYM\" : False,\n",
    "        \"FRACTIONAL\" : True,\n",
    "        }\n",
    "\n",
    "#Grid Options\n",
    "NP = 7 #Number of points per block\n",
    "NM =  [10,10] #Number of blocks [angular, radial]\n",
    "L = np.arccosh(15./a) #Maximum radial coordinate value\n",
    "loc = np.array(range(-4,5)) #Non inclusive on upper bound\n",
    "\n",
    "#Create and initialize grid object\n",
    "grid = Psgrid(NP, NM, a, L, loc)\n",
    "grid.initialize()\n",
    "\n",
    "#Kohn Sham object\n",
    "KS = Kohnsham(grid, Za, Zb, pol, Nmo, N, optKS)\n",
    "KS.scf({})\n",
    "\n",
    "print(f\" Total Energy: {KS.E.E}\")"
   ]
  }
 ],
 "metadata": {
  "kernelspec": {
   "display_name": "Python 3 (ipykernel)",
   "language": "python",
   "name": "python3"
  },
  "language_info": {
   "codemirror_mode": {
    "name": "ipython",
    "version": 3
   },
   "file_extension": ".py",
   "mimetype": "text/x-python",
   "name": "python",
   "nbconvert_exporter": "python",
   "pygments_lexer": "ipython3",
   "version": "3.8.5"
  }
 },
 "nbformat": 4,
 "nbformat_minor": 4
}
