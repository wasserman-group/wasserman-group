{
 "cells": [
  {
   "cell_type": "code",
   "execution_count": 1,
   "metadata": {},
   "outputs": [],
   "source": [
    "### Fluorine LDA"
   ]
  },
  {
   "cell_type": "code",
   "execution_count": 12,
   "metadata": {},
   "outputs": [
    {
     "name": "stdout",
     "output_type": "stream",
     "text": [
      " iter    Total Energy     HOMO Eigenvalue         Res       \n",
      "\n",
      "----------------------------------------------------------- \n",
      "\n",
      "    1      -119.69484      -3.88326e-02       +1.00000e+00\n",
      "    2      -100.08111      -1.05584e+00       +1.95978e-01\n",
      "    3      -101.61887      -5.61417e-01       +3.48165e-02\n",
      "    4      -100.30326      -4.66725e-01       +1.62265e-02\n",
      "    5      -99.59278      -4.32251e-01       +7.40656e-03\n",
      "    6      -99.37333      -4.31746e-01       +3.45818e-03\n",
      "    7      -99.18043      -4.07035e-01       +1.94490e-03\n",
      "    8      -99.12508      -4.04224e-01       +7.16056e-04\n",
      "    9      -99.10622      -4.02651e-01       +3.38915e-04\n",
      "   10      -99.09828      -4.01929e-01       +1.61795e-04\n",
      "   11      -99.09512      -4.01587e-01       +7.80343e-05\n",
      "   12      -99.09384      -4.01426e-01       +3.80132e-05\n",
      "   13      -99.09334      -4.01350e-01       +1.87328e-05\n",
      "   14      -99.09314      -4.01314e-01       +9.41549e-06\n",
      " Total Energy: -99.09314377654036\n"
     ]
    }
   ],
   "source": [
    "import numpy as np\n",
    "from CADMium import Psgrid\n",
    "from CADMium import Kohnsham\n",
    "\n",
    "#Distance of the nucley from grid center\n",
    "a =  1.0\n",
    "\n",
    "#Nuclear charges on centers AB\n",
    "Za  = 9\n",
    "Zb = 0\n",
    "\n",
    "#Set polaization. 1 Unpolarized, 2 Polarized\n",
    "pol = 1\n",
    "\n",
    "Nmo = [[3],[2]]\n",
    "N   = [[6],[3]]  # Why are we considering molecular orbitals (?)\n",
    "\n",
    "optKS = {\n",
    "        \"interaction_type\" : \"dft\",\n",
    "        \"SYM\" : False,\n",
    "        \"FRACTIONAL\" : True,\n",
    "        }\n",
    "\n",
    "#Grid Options\n",
    "NP = 7 #Number of points per block\n",
    "NM =  [14,14] #Number of blocks [angular, radial]\n",
    "L = np.arccosh(15./a)#Maximum radial coordinate value\n",
    "loc = np.array(range(-4,5)) #Non inclusive on upper bound\n",
    "\n",
    "#Create and initialize grid object\n",
    "grid = Psgrid(NP, NM, a, L, loc)\n",
    "grid.initialize()\n",
    "\n",
    "#Kohn Sham object\n",
    "KS = Kohnsham(grid, Za, Zb, pol, Nmo, N, optKS)\n",
    "KS.scf()\n",
    "\n",
    "print(f\" Total Energy: {KS.E.E}\")"
   ]
  },
  {
   "cell_type": "markdown",
   "metadata": {},
   "source": [
    "Compare againts Nist Total Energy: Etot = -99.099648"
   ]
  }
 ],
 "metadata": {
  "kernelspec": {
   "display_name": "Python 3 (ipykernel)",
   "language": "python",
   "name": "python3"
  },
  "language_info": {
   "codemirror_mode": {
    "name": "ipython",
    "version": 3
   },
   "file_extension": ".py",
   "mimetype": "text/x-python",
   "name": "python",
   "nbconvert_exporter": "python",
   "pygments_lexer": "ipython3",
   "version": "3.8.5"
  }
 },
 "nbformat": 4,
 "nbformat_minor": 4
}
