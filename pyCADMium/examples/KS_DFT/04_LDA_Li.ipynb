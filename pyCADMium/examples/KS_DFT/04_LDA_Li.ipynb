{
 "cells": [
  {
   "cell_type": "code",
   "execution_count": 2,
   "metadata": {},
   "outputs": [],
   "source": [
    "### Lithium LDA"
   ]
  },
  {
   "cell_type": "code",
   "execution_count": 1,
   "metadata": {},
   "outputs": [
    {
     "name": "stdout",
     "output_type": "stream",
     "text": [
      " iter    Total Energy     HOMO Eigenvalue         Res       \n",
      "\n",
      "----------------------------------------------------------- \n",
      "\n",
      "    1       -8.95657      -3.65190e-03       +1.00000e+00\n",
      "    2       -7.86239      -8.21255e-02       +1.39166e-01\n",
      "    3       -7.49889      -1.00689e-01       +4.84735e-02\n",
      "    4       -7.38431      -1.05697e-01       +1.55163e-02\n",
      "    5       -7.34848      -1.06620e-01       +4.87611e-03\n",
      "    6       -7.33835      -1.06574e-01       +1.38113e-03\n",
      "    7       -7.33476      -1.06313e-01       +4.89489e-04\n",
      "    8       -7.33449      -1.06013e-01       +2.75649e-04\n",
      "    9       -7.33465      -1.05822e-01       +1.51746e-04\n",
      "   10       -7.33483      -1.05707e-01       +8.11647e-05\n",
      "   11       -7.33496      -1.05641e-01       +4.25429e-05\n",
      "   12       -7.33504      -1.05604e-01       +2.20287e-05\n",
      "   13       -7.33509      -1.05583e-01       +1.13534e-05\n",
      "   14       -7.33511      -1.05572e-01       +5.84729e-06\n",
      " Total Energy: -7.335109941376944\n"
     ]
    }
   ],
   "source": [
    "import numpy as np\n",
    "from CADMium import Psgrid\n",
    "from CADMium import Kohnsham\n",
    "\n",
    "\n",
    "#Distance of the nucley from grid center\n",
    "a =  1.0\n",
    "\n",
    "#Nuclear charges on centers AB\n",
    "Za  = 3\n",
    "Zb = 0\n",
    "\n",
    "#Set polaization. 1 Unpolarized, 2 Polarized\n",
    "pol = 1\n",
    "\n",
    "Nmo = [[2]]\n",
    "N   = [[3]]\n",
    "\n",
    "optKS = {\n",
    "        \"interaction_type\" : \"dft\",\n",
    "        \"SYM\" : False,\n",
    "        \"FRACTIONAL\" : True,\n",
    "        }\n",
    "\n",
    "#Grid Options\n",
    "NP = 7 #Number of points per block\n",
    "NM =  [4,4] #Number of blocks [angular, radial]\n",
    "L = np.arccosh(15./a) #Maximum radial coordinate value\n",
    "loc = np.array(range(-4,5)) #Non inclusive on upper bound\n",
    "\n",
    "#Create and initialize grid object\n",
    "grid = Psgrid(NP, NM, a, L, loc)\n",
    "grid.initialize()\n",
    "\n",
    "#Kohn Sham object\n",
    "KS = Kohnsham(grid, Za, Zb, pol, Nmo, N, optKS)\n",
    "KS.scf()\n",
    "\n",
    "print(f\" Total Energy: {KS.E.E}\")"
   ]
  }
 ],
 "metadata": {
  "kernelspec": {
   "display_name": "Python 3 (ipykernel)",
   "language": "python",
   "name": "python3"
  },
  "language_info": {
   "codemirror_mode": {
    "name": "ipython",
    "version": 3
   },
   "file_extension": ".py",
   "mimetype": "text/x-python",
   "name": "python",
   "nbconvert_exporter": "python",
   "pygments_lexer": "ipython3",
   "version": "3.8.5"
  }
 },
 "nbformat": 4,
 "nbformat_minor": 4
}
