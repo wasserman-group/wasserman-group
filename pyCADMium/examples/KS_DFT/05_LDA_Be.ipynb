{
 "cells": [
  {
   "cell_type": "markdown",
   "metadata": {},
   "source": [
    "### Beryllium LDA"
   ]
  },
  {
   "cell_type": "code",
   "execution_count": 1,
   "metadata": {},
   "outputs": [
    {
     "name": "stdout",
     "output_type": "stream",
     "text": [
      " iter    Total Energy     HOMO Eigenvalue         Res       \n",
      "\n",
      "----------------------------------------------------------- \n",
      "\n",
      "    1      -17.52412      -2.50572e-02       +1.00000e+00\n",
      "    2      -15.40680      -1.79335e-01       +1.37428e-01\n",
      "    3      -14.74245      -2.07728e-01       +4.50636e-02\n",
      "    4      -14.53904      -2.11670e-01       +1.39912e-02\n",
      "    5      -14.47292      -2.10250e-01       +4.56819e-03\n",
      "    6      -14.45718      -2.10086e-01       +1.37112e-03\n",
      "    7      -14.44591      -2.07539e-01       +8.23717e-04\n",
      "    8      -14.44550      -2.06687e-01       +4.47611e-04\n",
      "    9      -14.44574      -2.06240e-01       +2.38841e-04\n",
      "   10      -14.44601      -2.06010e-01       +1.25535e-04\n",
      "   11      -14.44620      -2.05892e-01       +6.52941e-05\n",
      "   12      -14.44632      -2.05832e-01       +3.36878e-05\n",
      "   13      -14.44639      -2.05801e-01       +1.72731e-05\n",
      "   14      -14.44643      -2.05785e-01       +8.81403e-06\n",
      " Total Energy: -14.446430904094559\n"
     ]
    }
   ],
   "source": [
    "import numpy as np\n",
    "from CADMium import Psgrid\n",
    "from CADMium import Kohnsham\n",
    "\n",
    "#Distance of the nucley from grid center\n",
    "a =  1.0\n",
    "\n",
    "#Nuclear charges on centers AB\n",
    "Za  = 4\n",
    "Zb = 0\n",
    "\n",
    "#Set polaization. 1 Unpolarized, 2 Polarized\n",
    "pol = 1\n",
    "\n",
    "Nmo = [[2]]\n",
    "N   = [[4]]\n",
    "\n",
    "optKS = {\n",
    "        \"interaction_type\" : \"dft\",\n",
    "        \"SYM\" : False,\n",
    "        \"FRACTIONAL\" : True,\n",
    "        }\n",
    "\n",
    "#Grid Options\n",
    "NP = 7 #Number of points per block\n",
    "NM =  [10,10] #Number of blocks [angular, radial]\n",
    "L = np.arccosh(15./a) #Maximum radial coordinate value\n",
    "loc = np.array(range(-4,5)) #Non inclusive on upper bound\n",
    "\n",
    "#Create and initialize grid object\n",
    "grid = Psgrid(NP, NM, a, L, loc)\n",
    "grid.initialize()\n",
    "\n",
    "#Kohn Sham object\n",
    "KS = Kohnsham(grid, Za, Zb, pol, Nmo, N, optKS)\n",
    "KS.scf()\n",
    "\n",
    "print(f\" Total Energy: {KS.E.E}\")"
   ]
  }
 ],
 "metadata": {
  "kernelspec": {
   "display_name": "Python 3 (ipykernel)",
   "language": "python",
   "name": "python3"
  },
  "language_info": {
   "codemirror_mode": {
    "name": "ipython",
    "version": 3
   },
   "file_extension": ".py",
   "mimetype": "text/x-python",
   "name": "python",
   "nbconvert_exporter": "python",
   "pygments_lexer": "ipython3",
   "version": "3.8.5"
  }
 },
 "nbformat": 4,
 "nbformat_minor": 4
}
