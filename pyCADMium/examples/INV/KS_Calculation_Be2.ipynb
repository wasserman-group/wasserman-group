{
 "cells": [
  {
   "cell_type": "code",
   "execution_count": 4,
   "metadata": {},
   "outputs": [],
   "source": [
    "import numpy as np\n",
    "import matplotlib.pyplot as plt\n",
    "from CADMium import Pssolver, Psgrid, Partition, Inverter, Kohnsham"
   ]
  },
  {
   "cell_type": "code",
   "execution_count": 7,
   "metadata": {},
   "outputs": [],
   "source": [
    "a = 4.522/2\n",
    "#Nuclear charge for fragments A and B\n",
    "Za, Zb = 4,4\n",
    "#Set polarization 1-Unpolarized, 2-Polarized\n",
    "pol = 1\n",
    "\n",
    "#Molecular elctron configuration\n",
    "Nmo = [[4]]\n",
    "N   = [[8]]\n",
    "\n",
    "#Set up grid\n",
    "NP = 7\n",
    "NM = [12,12]\n",
    "L = np.arccosh(15/a)\n",
    "loc = np.array(range(-4,5)) #Stencil outline\n",
    "\n",
    "grid = Psgrid(NP, NM, a, L, loc)\n",
    "grid.initialize()"
   ]
  },
  {
   "cell_type": "code",
   "execution_count": 13,
   "metadata": {},
   "outputs": [
    {
     "name": "stdout",
     "output_type": "stream",
     "text": [
      " iter    Total Energy     HOMO Eigenvalue         Res       \n",
      "\n",
      "----------------------------------------------------------- \n",
      "\n",
      "    1      -34.90368      +1.16236e-02       +1.00000e+00\n",
      "    2      -30.52959      -2.11779e-01       +1.43274e-01\n",
      "    3      -29.44386      -2.03583e-01       +3.68745e-02\n",
      "    4      -29.11824      -1.85013e-01       +1.11828e-02\n",
      "    5      -28.99013      -1.75520e-01       +4.41890e-03\n",
      "    6      -28.95676      -1.74476e-01       +1.31035e-03\n",
      "    7      -28.91961      -1.68383e-01       +1.28448e-03\n",
      "    8      -28.91490      -1.67198e-01       +3.23954e-04\n",
      "    9      -28.91357      -1.66593e-01       +1.76316e-04\n",
      "   10      -28.91331      -1.66286e-01       +9.45094e-05\n",
      "   11      -28.91334      -1.66129e-01       +4.98768e-05\n",
      "   12      -28.91342      -1.66049e-01       +2.59967e-05\n",
      "   13      -28.91348      -1.66009e-01       +1.34036e-05\n",
      "   14      -28.91353      -1.65988e-01       +6.85394e-06\n",
      " Total Energy: -28.913525812419543\n"
     ]
    }
   ],
   "source": [
    "KS = Kohnsham(grid, Za, Zb, pol, Nmo, N, {\"sym\" : True})\n",
    "KS.scf({})\n",
    "\n",
    "print(f\" Total Energy: {KS.E.E}\")"
   ]
  },
  {
   "cell_type": "code",
   "execution_count": 15,
   "metadata": {},
   "outputs": [],
   "source": [
    "x, dt      = grid.axis_plot(KS.n[:,0])"
   ]
  },
  {
   "cell_type": "code",
   "execution_count": 16,
   "metadata": {},
   "outputs": [
    {
     "data": {
      "text/plain": [
       "[<matplotlib.lines.Line2D at 0x7f427e17fac0>]"
      ]
     },
     "execution_count": 16,
     "metadata": {},
     "output_type": "execute_result"
    },
    {
     "data": {
      "image/png": "[encoded data removed]",
      "text/plain": [
       "<Figure size 432x288 with 1 Axes>"
      ]
     },
     "metadata": {
      "needs_background": "light"
     },
     "output_type": "display_data"
    }
   ],
   "source": [
    "plt.plot(x, dt)"
   ]
  },
  {
   "cell_type": "code",
   "execution_count": 18,
   "metadata": {},
   "outputs": [],
   "source": [
    "np.save('dt.npy',dt)"
   ]
  },
  {
   "cell_type": "code",
   "execution_count": null,
   "metadata": {},
   "outputs": [],
   "source": []
  }
 ],
 "metadata": {
  "kernelspec": {
   "display_name": "Python 3",
   "language": "python",
   "name": "python3"
  },
  "language_info": {
   "codemirror_mode": {
    "name": "ipython",
    "version": 3
   },
   "file_extension": ".py",
   "mimetype": "text/x-python",
   "name": "python",
   "nbconvert_exporter": "python",
   "pygments_lexer": "ipython3",
   "version": "3.8.5"
  }
 },
 "nbformat": 4,
 "nbformat_minor": 4
}
