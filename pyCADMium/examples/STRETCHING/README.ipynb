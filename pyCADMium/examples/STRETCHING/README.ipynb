{
 "cells": [
  {
   "cell_type": "markdown",
   "id": "caceb8db",
   "metadata": {},
   "source": [
    "### README: Delocalization and Static Correlation Errors. \n",
    "\n",
    "The following examples are a set of calculations used in the context of Partition Density Functional Theory (PDFT).  \n",
    "\n",
    "They recreate the results from the following publication:\n",
    "\n",
    "    - https://doi.org/10.1063/1.4937771"
   ]
  }
 ],
 "metadata": {
  "kernelspec": {
   "display_name": "Python 3 (ipykernel)",
   "language": "python",
   "name": "python3"
  },
  "language_info": {
   "codemirror_mode": {
    "name": "ipython",
    "version": 3
   },
   "file_extension": ".py",
   "mimetype": "text/x-python",
   "name": "python",
   "nbconvert_exporter": "python",
   "pygments_lexer": "ipython3",
   "version": "3.8.5"
  }
 },
 "nbformat": 4,
 "nbformat_minor": 5
}
